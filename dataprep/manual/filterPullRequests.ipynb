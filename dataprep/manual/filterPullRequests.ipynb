{
 "cells": [
  {
   "cell_type": "code",
   "execution_count": 1,
   "metadata": {},
   "outputs": [],
   "source": [
    "import pandas as pd\n",
    "import json,glob, os\n",
    "import re\n",
    "from datetime import datetime\n",
    "import requests\n",
    "import os\n"
   ]
  },
  {
   "cell_type": "code",
   "execution_count": 2,
   "metadata": {},
   "outputs": [],
   "source": [
    "json_dir = 'merged_pr_15_02_2024.json'"
   ]
  },
  {
   "cell_type": "code",
   "execution_count": 3,
   "metadata": {},
   "outputs": [],
   "source": [
    "pull_request_merged = []\n",
    "f = open(json_dir)\n",
    "data = json.load(f)\n",
    "for i in data:\n",
    "    pull_request_merged.append(i)\n",
    "f.close()"
   ]
  },
  {
   "cell_type": "code",
   "execution_count": 4,
   "metadata": {},
   "outputs": [
    {
     "data": {
      "text/plain": [
       "154"
      ]
     },
     "execution_count": 4,
     "metadata": {},
     "output_type": "execute_result"
    }
   ],
   "source": [
    "len(pull_request_merged)"
   ]
  },
  {
   "cell_type": "code",
   "execution_count": 5,
   "metadata": {},
   "outputs": [],
   "source": [
    "# We are interested in the merged PRs. Let create list of projects\n",
    "# from the merged PR lists\n",
    "items = []\n",
    "for pr in pull_request_merged:\n",
    "    items.append(pr.split('/pull/')[0])\n",
    "projects = set(items)"
   ]
  },
  {
   "cell_type": "code",
   "execution_count": 6,
   "metadata": {},
   "outputs": [
    {
     "data": {
      "text/plain": [
       "133"
      ]
     },
     "execution_count": 6,
     "metadata": {},
     "output_type": "execute_result"
    }
   ],
   "source": [
    "len(projects)"
   ]
  },
  {
   "cell_type": "code",
   "execution_count": 7,
   "metadata": {},
   "outputs": [],
   "source": [
    "# helper function\n",
    "\"\"\"\n",
    "    Read from list\n",
    "\"\"\"\n",
    "# token_file = 'tokens.txt'\n",
    "token_file = '../../../tokens.txt'\n",
    "\n",
    "token_list = []\n",
    "with open(token_file, 'r') as f:\n",
    "    for line in f.readlines():\n",
    "        token_list.append(line.strip('\\n'))\n",
    "\n",
    "\"\"\"\n",
    "    Manually add in notebook\n",
    "\"\"\"\n",
    "#token_list = [\"nadHJok13mdkaamda\", \"ajd1819kdamda\",\"...\"]\n",
    "\n",
    "lenTokens = len(token_list)\n",
    "\n",
    "def get_response(url, token_list, ct):\n",
    "    json_data = None\n",
    "\n",
    "    # token_list, len_tokens = tokens()\n",
    "    len_tokens = len(token_list)\n",
    "    try:\n",
    "        ct = ct % len_tokens\n",
    "        headers = {'Authorization': 'Bearer {}'.format(token_list[ct])}\n",
    "        request = requests.get(url, headers=headers)\n",
    "        json_data = json.loads(request.content)\n",
    "        ct += 1\n",
    "    except Exception as e:\n",
    "        print(e)\n",
    "        print(\"Error in func: [get_response]...\")\n",
    "    return json_data, ct"
   ]
  },
  {
   "cell_type": "code",
   "execution_count": 8,
   "metadata": {},
   "outputs": [],
   "source": [
    "def api_request(url, token):\n",
    "    header = {'Authorization': 'token %s' % token}\n",
    "    response = requests.get(url, headers=header)\n",
    "    try:\n",
    "        json_response = json.loads(response.content)\n",
    "        return json_response\n",
    "    except Exception as e:\n",
    "        return response"
   ]
  },
  {
   "cell_type": "code",
   "execution_count": 9,
   "metadata": {},
   "outputs": [],
   "source": [
    "#Filter `toy projects based on the following criteria\n",
    "#---- 1. At least 2 developers ---\n",
    "# 2. At least 100 commits\n",
    "# 3. At least 1 review - this is pracific to pull request.\n",
    "# two_developer = []\n",
    "project_filter = []\n",
    "for project in projects:\n",
    "    # constract api url\n",
    "    part = project.split('github.com/')\n",
    "    # url = f'{part[0]}api.github.com/repos/{part[1]}/contributors'\n",
    "    # try:\n",
    "    #     request = api_request(url, token_list[0])\n",
    "    #     # at least 2 developers\n",
    "    #     if len(request) > 1:\n",
    "    #         two_developer.append(project)\n",
    "\n",
    "    # at least 100 commits\n",
    "    try:\n",
    "        commits_url = f'{part[0]}api.github.com/repos/{part[1]}/commits?per_page=100'\n",
    "        fetch_commits = api_request(commits_url, token_list[0])\n",
    "        if len(fetch_commits) >= 100:\n",
    "            project_filter.append(project)\n",
    "    except Exception as e:\n",
    "        print(\"skipping...\", e)\n",
    "    # except Exception as e:\n",
    "    #     print(project, e)"
   ]
  },
  {
   "cell_type": "code",
   "execution_count": 10,
   "metadata": {},
   "outputs": [
    {
     "data": {
      "text/plain": [
       "107"
      ]
     },
     "execution_count": 10,
     "metadata": {},
     "output_type": "execute_result"
    }
   ],
   "source": [
    "len(project_filter)"
   ]
  },
  {
   "cell_type": "code",
   "execution_count": 11,
   "metadata": {},
   "outputs": [],
   "source": [
    "# get the merged PRs that are part of the remainings project and perform \n",
    "# PR specific filtering... i.e. PR should have at least 1 review\n",
    "# e.g url: https://api.github.com/repos/apache/kafka/pulls/14540/comments\n",
    "\n",
    "pull_request_clean = []\n",
    "for pf in project_filter:\n",
    "    for pr in pull_request_merged:\n",
    "        pr_part = pr.split('/pull/')\n",
    "        if pf == pr_part[0]:\n",
    "            # at least 1 reviews\n",
    "            pf_part = pf.split('github.com/')\n",
    "            try:\n",
    "                comments_url = f\"{part[0]}api.github.com/repos/{pf_part[1]}/pulls/{pr_part[1]}/reviews\"\n",
    "                fetch_comments = api_request(comments_url, token_list[0])\n",
    "                if len(fetch_comments) >= 1:\n",
    "                    pull_request_clean.append(pr)\n",
    "            except Exception as e:\n",
    "                print(\"skipping...\", e)"
   ]
  },
  {
   "cell_type": "code",
   "execution_count": 24,
   "metadata": {},
   "outputs": [
    {
     "data": {
      "text/plain": [
       "'https://github.com/Rhetos/Rhetos/pull/479'"
      ]
     },
     "execution_count": 24,
     "metadata": {},
     "output_type": "execute_result"
    }
   ],
   "source": [
    "# total number of PRs that met the selection criteria \n",
    "# pull_request_clean = set(pull_request_clean)\n",
    "pull_request_clean[0]"
   ]
  },
  {
   "cell_type": "code",
   "execution_count": 31,
   "metadata": {},
   "outputs": [],
   "source": [
    "json_di = 'pr_sharing_15_02_2024.json'"
   ]
  },
  {
   "cell_type": "code",
   "execution_count": 32,
   "metadata": {},
   "outputs": [],
   "source": [
    "total_PR = []\n",
    "f = open(json_di)\n",
    "data = json.load(f)"
   ]
  },
  {
   "cell_type": "code",
   "execution_count": 33,
   "metadata": {},
   "outputs": [
    {
     "data": {
      "text/plain": [
       "215"
      ]
     },
     "execution_count": 33,
     "metadata": {},
     "output_type": "execute_result"
    }
   ],
   "source": [
    "len(data['Sources'])"
   ]
  },
  {
   "cell_type": "code",
   "execution_count": 36,
   "metadata": {},
   "outputs": [
    {
     "name": "stdout",
     "output_type": "stream",
     "text": [
      "https://github.com/Rhetos/Rhetos/pull/479\n",
      "https://github.com/Regression-Games/RGUnityBots/pull/100\n",
      "https://github.com/faker-js/faker/pull/2658\n",
      "https://github.com/VOICEVOX/voicevox/pull/1790\n",
      "https://github.com/VOICEVOX/voicevox/pull/1621\n",
      "https://github.com/rapidsai/cuspatial/pull/1295\n",
      "https://github.com/uchicago-cs/chigame/pull/265\n",
      "https://github.com/localstack/localstack-blog.github.io/pull/10\n",
      "https://github.com/jwjacobson/jazz_repertoire/pull/65\n",
      "https://github.com/okp4/docs/pull/364\n",
      "https://github.com/nishiki-tech/nishiki-frontend/pull/223\n",
      "https://github.com/nishiki-tech/nishiki-frontend/pull/184\n",
      "https://github.com/marqo-ai/marqo/pull/670\n",
      "https://github.com/bitcoin/bitcoin/pull/28846\n",
      "https://github.com/VyProductions/SeniorDesign/pull/57\n",
      "https://github.com/VyProductions/SeniorDesign/pull/53\n",
      "https://github.com/VyProductions/SeniorDesign/pull/56\n",
      "https://github.com/VyProductions/SeniorDesign/pull/51\n",
      "https://github.com/dragonflydb/dragonfly/pull/2153\n",
      "https://github.com/PolicyEngine/policyengine-us/pull/3258\n",
      "https://github.com/joke2k/faker/pull/1988\n",
      "https://github.com/zauberzeug/nicegui/pull/2272\n",
      "https://github.com/BolasLien/enjoyment-luxury-hotel/pull/9\n",
      "https://github.com/exchange-wata/next.js14-tailwindcss-udemy-blog/pull/6\n",
      "https://github.com/equinix/metal-cli/pull/405\n",
      "https://github.com/langroid/langroid/pull/301\n",
      "https://github.com/empirical-org/Empirical-Core/pull/11308\n",
      "https://github.com/robotology/icub-models-generator/pull/252\n",
      "https://github.com/Opetushallitus/ludos/pull/102\n",
      "https://github.com/skypilot-org/skypilot/pull/3081\n",
      "https://github.com/deso-protocol/core/pull/875\n",
      "https://github.com/hackforla/CivicTechJobs/pull/477\n",
      "https://github.com/camel-ai/camel/pull/400\n",
      "https://github.com/timjuic/paypro-android/pull/8\n",
      "https://github.com/star82620/join-joy/pull/71\n",
      "https://github.com/primer-io/primer-sdk-ios/pull/723\n",
      "https://github.com/openwallet-foundation/credo-ts/pull/1754\n",
      "https://github.com/pass-culture/pass-culture-main/pull/9227\n",
      "https://github.com/MartinsOnuoha/what-should-i-design/pull/8\n",
      "https://github.com/digitalbitbox/bitbox-wallet-app/pull/2415\n",
      "https://github.com/digitalbitbox/bitbox-wallet-app/pull/2368\n",
      "https://github.com/etalab/annuaire-entreprises-site/pull/796\n",
      "https://github.com/gradle/gradle/pull/26792\n",
      "https://github.com/featureform/featureform/pull/1195\n",
      "https://github.com/40LF0/couple_project_backend/pull/13\n",
      "https://github.com/raspiblitz/raspiblitz/pull/4312\n",
      "https://github.com/whatwg/urlpattern/pull/198\n",
      "https://github.com/kube-hetzner/terraform-hcloud-kube-hetzner/pull/1091\n",
      "https://github.com/MatrixAI/Polykey/pull/604\n",
      "https://github.com/polywrap/evo.ninja/pull/629\n",
      "https://github.com/netket/netket/pull/1631\n",
      "https://github.com/SSWConsulting/SSW.Rules.Content/pull/7614\n",
      "https://github.com/asadm/playroom-unity/pull/43\n",
      "https://github.com/g12-4soat/tech-lanches/pull/66\n",
      "https://github.com/usatie/pong/pull/174\n",
      "https://github.com/usatie/pong/pull/138\n",
      "https://github.com/sveltejs/learn.svelte.dev/pull/522\n",
      "https://github.com/airbytehq/airbyte/pull/33679\n",
      "https://github.com/betagouv/beta.gouv.fr/pull/16244\n",
      "https://github.com/codeigniter4/CodeIgniter4/pull/8230\n",
      "https://github.com/itpplasma/libneo/pull/21\n",
      "https://github.com/mdn/content/pull/30321\n",
      "https://github.com/ory/elements/pull/171\n",
      "https://github.com/hacktoberfestkorea/hacktoberfestkorea/pull/241\n",
      "https://github.com/unity-atoms/unity-atoms/pull/448\n",
      "https://github.com/Altinn/altinn-broker/pull/259\n",
      "https://github.com/rotary-genomics/rotary/pull/57\n",
      "https://github.com/kazuki1023/hackathon202402/pull/2\n",
      "https://github.com/kbss-cvut/fta-fmea-ui/pull/153\n",
      "https://github.com/shakacode/heroku-to-control-plane/pull/114\n",
      "https://github.com/pokt-network/poktroll/pull/338\n",
      "https://github.com/pokt-network/poktroll/pull/185\n",
      "https://github.com/pokt-network/poktroll/pull/284\n",
      "https://github.com/pokt-network/poktroll/pull/220\n",
      "https://github.com/jsdom/jsdom/pull/3644\n",
      "https://github.com/testsigmahq/testsigma-docs/pull/349\n",
      "https://github.com/customerio/gist-web/pull/25\n",
      "https://github.com/hufscheer/client/pull/119\n",
      "https://github.com/jxnl/instructor/pull/186\n",
      "https://github.com/VOICEVOX/voicevox_core/pull/655\n",
      "https://github.com/boostcampwm2023/web15-BaekjoonRooms/pull/50\n",
      "https://github.com/unoplatform/workshops/pull/128\n",
      "https://github.com/codecrafters-io/frontend/pull/1061\n",
      "https://github.com/JuliaDocs/Documenter.jl/pull/2394\n",
      "https://github.com/VOICEVOX/voicevox_engine/pull/904\n",
      "https://github.com/SalesforceCommerceCloud/pwa-kit/pull/1528\n",
      "https://github.com/seamapi/seam-cli/pull/68\n",
      "https://github.com/groundlight/python-sdk/pull/142\n",
      "https://github.com/Bananapus/nana-core/pull/37\n",
      "https://github.com/daydule/odyssey-frontend/pull/29\n",
      "https://github.com/daydule/odyssey-frontend/pull/22\n",
      "https://github.com/chatwoot/chatwoot/pull/8136\n",
      "https://github.com/maybe-finance/maybe/pull/228\n",
      "https://github.com/pyg-team/pytorch-frame/pull/281\n",
      "https://github.com/sablier-labs/v2-core/pull/734\n",
      "https://github.com/cyface-de/android-backend/pull/289\n",
      "https://github.com/mlflow/mlflow/pull/9991\n",
      "https://github.com/facebookresearch/llama-recipes/pull/279\n"
     ]
    }
   ],
   "source": [
    "for i in pull_request_clean:\n",
    "    print(i)"
   ]
  }
 ],
 "metadata": {
  "kernelspec": {
   "display_name": "venv",
   "language": "python",
   "name": "python3"
  },
  "language_info": {
   "codemirror_mode": {
    "name": "ipython",
    "version": 3
   },
   "file_extension": ".py",
   "mimetype": "text/x-python",
   "name": "python",
   "nbconvert_exporter": "python",
   "pygments_lexer": "ipython3",
   "version": "3.10.1"
  }
 },
 "nbformat": 4,
 "nbformat_minor": 2
}
